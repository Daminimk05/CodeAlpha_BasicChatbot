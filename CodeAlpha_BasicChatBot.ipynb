{
 "cells": [
  {
   "cell_type": "code",
   "execution_count": 9,
   "id": "d55c0a82-2d5f-47c0-90e4-e412b4cfe5d4",
   "metadata": {},
   "outputs": [
    {
     "name": "stderr",
     "output_type": "stream",
     "text": [
      "[nltk_data] Downloading package punkt to\n",
      "[nltk_data]     C:\\Users\\mkdam\\AppData\\Roaming\\nltk_data...\n",
      "[nltk_data]   Package punkt is already up-to-date!\n"
     ]
    },
    {
     "name": "stdout",
     "output_type": "stream",
     "text": [
      "Chatbot: Hi! I'm here to chat with you. Type 'bye' to exit.\n"
     ]
    },
    {
     "name": "stdin",
     "output_type": "stream",
     "text": [
      "You:  Hello!\n"
     ]
    },
    {
     "name": "stdout",
     "output_type": "stream",
     "text": [
      "Chatbot: Hello! How can I assist you today?\n"
     ]
    },
    {
     "name": "stdin",
     "output_type": "stream",
     "text": [
      "You:  Can you help me out?\n"
     ]
    },
    {
     "name": "stdout",
     "output_type": "stream",
     "text": [
      "Chatbot: How can I assist you today?\n"
     ]
    },
    {
     "name": "stdin",
     "output_type": "stream",
     "text": [
      "You:  Crack a joke\n"
     ]
    },
    {
     "name": "stdout",
     "output_type": "stream",
     "text": [
      "Chatbot: Why did the Tomato get shy when you opened the fridge? Because it saw a salad dressing!\n"
     ]
    },
    {
     "name": "stdin",
     "output_type": "stream",
     "text": [
      "You:  Haha! Good one.\n"
     ]
    },
    {
     "name": "stdout",
     "output_type": "stream",
     "text": [
      "Chatbot: Thank you!\n"
     ]
    },
    {
     "name": "stdin",
     "output_type": "stream",
     "text": [
      "You:  Bye! Talk to you later.\n"
     ]
    },
    {
     "name": "stdout",
     "output_type": "stream",
     "text": [
      "Chatbot: Goodbye! Have a great day!\n"
     ]
    }
   ],
   "source": [
    "import nltk\n",
    "from nltk.stem import PorterStemmer\n",
    "from nltk.tokenize import word_tokenize\n",
    "import random\n",
    "\n",
    "# Download required data for NLTK (first time use)\n",
    "nltk.download('punkt')\n",
    "\n",
    "# Initialize the stemmer\n",
    "stemmer = PorterStemmer()\n",
    "\n",
    "# Sample responses\n",
    "responses = {\n",
    "    \"hello\": [\"Hello! How can I assist you today?\", \"Hi there! How can I help?\"],\n",
    "    \"help\": [\"I can help with general queries, feel free to ask!\", \"How can I assist you today?\"],\n",
    "    \"name\": [\"I am a simple chatbot created to help you.\", \"I am a chatbot, and I don't have a name yet!\"],\n",
    "    \"joke\": [\"Why did the Tomato get shy when you opened the fridge? Because it saw a salad dressing!\", \"Why don't programmers like nature? Because it has too many bugs!\"],\n",
    "    \"bye\": [\"Goodbye! Have a great day!\", \"Bye! Take care!\"],\n",
    "    \"good\": [\"Thank you!\"],\n",
    "    \"default\": [\"I'm not sure I understand. Can you rephrase?\", \"Sorry, I didn't catch that.\"]\n",
    "}\n",
    "\n",
    "# Function to process user input\n",
    "def process_input(user_input):\n",
    "    # Tokenize and stem the user input\n",
    "    words = word_tokenize(user_input.lower())\n",
    "    stemmed_words = [stemmer.stem(word) for word in words]\n",
    "    \n",
    "    # Simple keyword matching to return a response\n",
    "    for word in stemmed_words:\n",
    "        if word in responses:\n",
    "            return random.choice(responses[word])\n",
    "    return random.choice(responses[\"default\"])\n",
    "\n",
    "# Basic chatbot loop\n",
    "def chatbot():\n",
    "    print(\"Chatbot: Hi! I'm here to chat with you. Type 'bye' to exit.\")\n",
    "    \n",
    "    while True:\n",
    "        user_input = input(\"You: \").lower()\n",
    "        if 'bye' in user_input:\n",
    "            print(\"Chatbot:\", random.choice(responses[\"bye\"]))\n",
    "            break\n",
    "        \n",
    "        response = process_input(user_input)\n",
    "        print(\"Chatbot:\", response)\n",
    "\n",
    "# Run the chatbot\n",
    "if __name__ == \"__main__\":\n",
    "    chatbot()\n"
   ]
  },
  {
   "cell_type": "code",
   "execution_count": null,
   "id": "bd1e2212-fc1e-4d09-ac88-d0f66e2d6d27",
   "metadata": {},
   "outputs": [],
   "source": []
  }
 ],
 "metadata": {
  "kernelspec": {
   "display_name": "Python 3 (ipykernel)",
   "language": "python",
   "name": "python3"
  },
  "language_info": {
   "codemirror_mode": {
    "name": "ipython",
    "version": 3
   },
   "file_extension": ".py",
   "mimetype": "text/x-python",
   "name": "python",
   "nbconvert_exporter": "python",
   "pygments_lexer": "ipython3",
   "version": "3.12.4"
  }
 },
 "nbformat": 4,
 "nbformat_minor": 5
}
